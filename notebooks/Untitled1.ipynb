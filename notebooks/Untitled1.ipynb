{
 "cells": [
  {
   "cell_type": "code",
   "execution_count": 1,
   "metadata": {},
   "outputs": [],
   "source": [
    "import refnx.dataset, refnx.reflect\n",
    "import matplotlib.pyplot as plt\n",
    "import toolbox as tb\n",
    "import models.two_layer as tl"
   ]
  },
  {
   "cell_type": "code",
   "execution_count": 2,
   "metadata": {},
   "outputs": [],
   "source": [
    "a = refnx.dataset.ReflectDataset('data/ml_22/XRR_293364_3c.dat')\n",
    "b = refnx.dataset.ReflectDataset('data/ml_12/XRR_293049_3c.dat')\n",
    "c = refnx.dataset.ReflectDataset('data/ml_33/XRR_293849_3c.dat')"
   ]
  },
  {
   "cell_type": "code",
   "execution_count": 21,
   "metadata": {},
   "outputs": [],
   "source": [
    "head = {\"C\": 10, \"H\": 18, \"O\": 8, \"N\": 1, \"P\": 1}\n",
    "tail = {\"C\": 15 * 2, \"H\": 15 * 4 + 2}\n",
    "\n",
    "b_head = tb.get_scattering_length(head, 12.5)\n",
    "b_tail = tb.get_scattering_length(tail, 12.5)\n",
    "\n",
    "lipids = tl.TwoLayer([b_head, b_tail], name='sample{}'.format(1))\n",
    "\n",
    "air = refnx.reflect.SLD(0, \"air\")\n",
    "water = refnx.reflect.SLD(9.45, \"h2o\")\n",
    "structures = air(0, 0) | lipids | water(0, 3.3)\n",
    "\n",
    "lipids.thick_t.setp(17, vary=False, bounds=(16.8, 22))\n",
    "lipids.thick_h.setp(10., vary=True, bounds=(5.5, 12.5))\n",
    "lipids.mol_vol_h.setp(319, vary=False)\n",
    "lipids.mol_vol_t.setp(829, vary=False)\n",
    "structures[-1].rough.setp(3.3, vary=True, bounds=(2.9, 6))\n",
    "lipids.rough_h_t.constraint = structures[-1].rough\n",
    "lipids.rough_t_a.constraint = structures[-1].rough\n",
    "lipids.phi_t.setp(0, vary=True, bounds=(0., 0.5))\n",
    "lipids.phi_h.setp(0.5, vary=True, bounds=(0.1, 0.9))\n",
    "\n",
    "lipids.solv_sld.constrain = structures[-1].sld.real\n",
    "\n",
    "models = refnx.reflect.ReflectModel(structures)\n",
    "\n",
    "models.bkg.setp(b.y.min(), vary=True, bounds=(1e-12, 1e-8))\n",
    "models.scale.setp(1, vary=False)\n",
    "\n",
    "o = refnx.analysis.Objective(models, c)"
   ]
  },
  {
   "cell_type": "code",
   "execution_count": 22,
   "metadata": {},
   "outputs": [
    {
     "name": "stderr",
     "output_type": "stream",
     "text": [
      "35it [00:15,  2.22it/s]\n"
     ]
    },
    {
     "data": {
      "text/plain": [
       "   covar: array([[ 5.73702126e-20,  1.16853616e-12, -7.68541251e-14,\n",
       "        -5.50162949e-14,  8.14203599e-13],\n",
       "       [ 1.16853616e-12,  1.53458488e-03,  2.66344863e-05,\n",
       "        -1.04210815e-05, -2.45652205e-05],\n",
       "       [-7.68541251e-14,  2.66344863e-05,  1.68661740e-05,\n",
       "         6.50865652e-06, -2.02051070e-05],\n",
       "       [-5.50162949e-14, -1.04210815e-05,  6.50865652e-06,\n",
       "         5.08857996e-06, -1.11668897e-05],\n",
       "       [ 8.14203599e-13, -2.45652205e-05, -2.02051070e-05,\n",
       "        -1.11668897e-05,  1.05081799e-04]])\n",
       "     fun: 478.6339477340617\n",
       "     jac: array([ 1.13509554e+11, -5.79183279e-01,  1.00630700e+01,  4.81494675e+03,\n",
       "        8.85864893e+00])\n",
       " message: 'Optimization terminated successfully.'\n",
       "    nfev: 2850\n",
       "     nit: 35\n",
       "  stderr: array([2.39520798e-10, 3.91737780e-02, 4.10684477e-03, 2.25578810e-03,\n",
       "       1.02509414e-02])\n",
       " success: True\n",
       "       x: array([1.00000000e-12, 8.63211798e+00, 4.52318223e-01, 6.72711835e-05,\n",
       "       3.38422456e+00])"
      ]
     },
     "execution_count": 22,
     "metadata": {},
     "output_type": "execute_result"
    }
   ],
   "source": [
    "fitter = refnx.analysis.CurveFitter(o)\n",
    "fitter.fit('differential_evolution', seed=1)"
   ]
  },
  {
   "cell_type": "code",
   "execution_count": 23,
   "metadata": {},
   "outputs": [
    {
     "data": {
      "text/plain": [
       "Text(0, 0.5, '$Rq^4$/Å$^{-4}$')"
      ]
     },
     "execution_count": 23,
     "metadata": {},
     "output_type": "execute_result"
    },
    {
     "data": {
      "image/png": "[encoded data removed]",
      "text/plain": [
       "<Figure size 432x288 with 1 Axes>"
      ]
     },
     "metadata": {
      "needs_background": "light"
     },
     "output_type": "display_data"
    }
   ],
   "source": [
    "plt.plot(c.x, c.y * c.x ** 4, 'o')\n",
    "plt.plot(c.x, models(c.x) * c.x ** 4)\n",
    "plt.yscale('log')\n",
    "plt.xlabel('$q$/Å$^{-1}$')\n",
    "plt.ylabel('$Rq^4$/Å$^{-4}$')"
   ]
  },
  {
   "cell_type": "code",
   "execution_count": 24,
   "metadata": {},
   "outputs": [],
   "source": [
    "q = refnx.analysis.Objective(models, b)"
   ]
  },
  {
   "cell_type": "code",
   "execution_count": 25,
   "metadata": {},
   "outputs": [
    {
     "name": "stderr",
     "output_type": "stream",
     "text": [
      "31it [00:15,  2.00it/s]\n"
     ]
    },
    {
     "data": {
      "text/plain": [
       "   covar: array([[ 9.78927684e-21,  6.78884784e-13, -1.84239792e-14,\n",
       "        -2.26970972e-14,  2.42674867e-13],\n",
       "       [ 6.78884784e-13,  2.22728027e-03,  1.70696140e-05,\n",
       "        -2.30868580e-05,  2.86034309e-05],\n",
       "       [-1.84239792e-14,  1.70696140e-05,  1.18318813e-05,\n",
       "         4.30411446e-06, -1.22688547e-05],\n",
       "       [-2.26970972e-14, -2.30868580e-05,  4.30411446e-06,\n",
       "         3.51541786e-06, -8.14893631e-06],\n",
       "       [ 2.42674867e-13,  2.86034309e-05, -1.22688547e-05,\n",
       "        -8.14893631e-06,  7.31425302e-05]])\n",
       "     fun: -236.50844380558746\n",
       " message: 'Optimization terminated successfully.'\n",
       "    nfev: 2682\n",
       "     nit: 31\n",
       "  stderr: array([9.89407744e-11, 4.71940703e-02, 3.43975018e-03, 1.87494476e-03,\n",
       "       8.55234063e-03])\n",
       " success: True\n",
       "       x: array([3.52295425e-10, 8.78252759e+00, 5.78838787e-01, 4.84865871e-02,\n",
       "       4.05487792e+00])"
      ]
     },
     "execution_count": 25,
     "metadata": {},
     "output_type": "execute_result"
    }
   ],
   "source": [
    "fitter = refnx.analysis.CurveFitter(q)\n",
    "fitter.fit('differential_evolution', seed=1)"
   ]
  },
  {
   "cell_type": "code",
   "execution_count": null,
   "metadata": {},
   "outputs": [
    {
     "data": {
      "text/plain": [
       "Text(0, 0.5, '$Rq^4$/Å$^{-4}$')"
      ]
     },
     "execution_count": 26,
     "metadata": {},
     "output_type": "execute_result"
    }
   ],
   "source": [
    "plt.plot(b.x, b.y * b.x ** 4, 'o')\n",
    "plt.plot(b.x, models(b.x) * b.x ** 4)\n",
    "plt.yscale('log')\n",
    "plt.xlabel('$q$/Å$^{-1}$')\n",
    "plt.ylabel('$Rq^4$/Å$^{-4}$')"
   ]
  },
  {
   "cell_type": "code",
   "execution_count": null,
   "metadata": {},
   "outputs": [],
   "source": []
  },
  {
   "cell_type": "code",
   "execution_count": null,
   "metadata": {},
   "outputs": [],
   "source": []
  }
 ],
 "metadata": {
  "kernelspec": {
   "display_name": "Python 3.7 [Conda DLS]",
   "language": "python",
   "name": "conda-env-Conda_DLS-python3.7"
  },
  "language_info": {
   "codemirror_mode": {
    "name": "ipython",
    "version": 3
   },
   "file_extension": ".py",
   "mimetype": "text/x-python",
   "name": "python",
   "nbconvert_exporter": "python",
   "pygments_lexer": "ipython3",
   "version": "3.7.3"
  }
 },
 "nbformat": 4,
 "nbformat_minor": 2
}
