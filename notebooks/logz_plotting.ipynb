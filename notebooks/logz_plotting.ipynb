{
 "cells": [
  {
   "cell_type": "code",
   "execution_count": 1,
   "metadata": {},
   "outputs": [],
   "source": [
    "import matplotlib.pyplot as plt"
   ]
  },
  {
   "cell_type": "code",
   "execution_count": 2,
   "metadata": {},
   "outputs": [],
   "source": [
    "variables = [\"th\", \"tt\", \"rough\", \"phit\", \"phih\"]\n",
    "v_labels = [r'$d_h$', r'$d_t$', r'$\\sigma$', r'$\\phi_t$', r'$\\phi_h$']\n",
    "\n",
    "import itertools\n",
    "\n",
    "VARIABLES = []\n",
    "V_LABELS = [] \n",
    "for i in range(0, 5):\n",
    "    for j in itertools.combinations(variables, i + 1):\n",
    "        VARIABLES.append('_'.join(j))\n",
    "    for j in itertools.combinations(v_labels, i + 1):\n",
    "        V_LABELS.append(r'/'.join(j))"
   ]
  },
  {
   "cell_type": "code",
   "execution_count": 3,
   "metadata": {},
   "outputs": [
    {
     "data": {
      "text/plain": [
       "['$d_h$',\n",
       " '$d_t$',\n",
       " '$\\\\sigma$',\n",
       " '$\\\\phi_t$',\n",
       " '$\\\\phi_h$',\n",
       " '$d_h$/$d_t$',\n",
       " '$d_h$/$\\\\sigma$',\n",
       " '$d_h$/$\\\\phi_t$',\n",
       " '$d_h$/$\\\\phi_h$',\n",
       " '$d_t$/$\\\\sigma$',\n",
       " '$d_t$/$\\\\phi_t$',\n",
       " '$d_t$/$\\\\phi_h$',\n",
       " '$\\\\sigma$/$\\\\phi_t$',\n",
       " '$\\\\sigma$/$\\\\phi_h$',\n",
       " '$\\\\phi_t$/$\\\\phi_h$',\n",
       " '$d_h$/$d_t$/$\\\\sigma$',\n",
       " '$d_h$/$d_t$/$\\\\phi_t$',\n",
       " '$d_h$/$d_t$/$\\\\phi_h$',\n",
       " '$d_h$/$\\\\sigma$/$\\\\phi_t$',\n",
       " '$d_h$/$\\\\sigma$/$\\\\phi_h$',\n",
       " '$d_h$/$\\\\phi_t$/$\\\\phi_h$',\n",
       " '$d_t$/$\\\\sigma$/$\\\\phi_t$',\n",
       " '$d_t$/$\\\\sigma$/$\\\\phi_h$',\n",
       " '$d_t$/$\\\\phi_t$/$\\\\phi_h$',\n",
       " '$\\\\sigma$/$\\\\phi_t$/$\\\\phi_h$',\n",
       " '$d_h$/$d_t$/$\\\\sigma$/$\\\\phi_t$',\n",
       " '$d_h$/$d_t$/$\\\\sigma$/$\\\\phi_h$',\n",
       " '$d_h$/$d_t$/$\\\\phi_t$/$\\\\phi_h$',\n",
       " '$d_h$/$\\\\sigma$/$\\\\phi_t$/$\\\\phi_h$',\n",
       " '$d_t$/$\\\\sigma$/$\\\\phi_t$/$\\\\phi_h$',\n",
       " '$d_h$/$d_t$/$\\\\sigma$/$\\\\phi_t$/$\\\\phi_h$']"
      ]
     },
     "execution_count": 3,
     "metadata": {},
     "output_type": "execute_result"
    }
   ],
   "source": [
    "V_LABELS"
   ]
  },
  {
   "cell_type": "code",
   "execution_count": 4,
   "metadata": {},
   "outputs": [],
   "source": [
    "import numpy as np"
   ]
  },
  {
   "cell_type": "code",
   "execution_count": 9,
   "metadata": {},
   "outputs": [
    {
     "data": {
      "image/png": "[encoded data removed]",
      "text/plain": [
       "<Figure size 720x432 with 1 Axes>"
      ]
     },
     "metadata": {
      "needs_background": "light"
     },
     "output_type": "display_data"
    }
   ],
   "source": [
    "logz = np.zeros((len(VARIABLES), 1))\n",
    "\n",
    "plt.subplots(figsize=(10, 6))\n",
    "for l, j in enumerate([12]):\n",
    "    for i, v in enumerate(VARIABLES):\n",
    "        f = open('output/ml_{}^{}.txt'.format(j, v), 'r')\n",
    "        logz[i, l] = float(f.read())\n",
    "        f.close()\n",
    "plt.errorbar(VARIABLES, logz.mean(axis=1), np.sqrt(logz.std(axis=1)), ls='', marker='o')\n",
    "plt.xticks(VARIABLES, V_LABELS, rotation='vertical')\n",
    "plt.xlabel('Variables')\n",
    "plt.ylabel('$\\sum\\ln{Z}$')\n",
    "plt.show()"
   ]
  },
  {
   "cell_type": "code",
   "execution_count": 10,
   "metadata": {},
   "outputs": [
    {
     "name": "stdout",
     "output_type": "stream",
     "text": [
      "th_tt_rough_phit_phih -5269.813521870098\n",
      "tt_rough_phit_phih -5330.9775411302335\n",
      "th_rough_phit_phih -5372.696683362915\n",
      "th_tt_phit_phih -5492.800398631103\n",
      "th_tt_rough_phit -5522.612142605004\n",
      "rough_phit_phih -5558.284664756993\n",
      "tt_phit_phih -5635.651341680886\n",
      "th_phit_phih -5683.692288623971\n",
      "th_tt_rough_phih -5691.642539241484\n",
      "tt_rough_phih -5757.57829615263\n",
      "th_rough_phih -5854.832222459411\n",
      "th_tt_phit -5874.528683644011\n",
      "phit_phih -5875.0864337326\n",
      "tt_rough_phit -5928.619759227575\n",
      "rough_phih -5987.745914453076\n",
      "tt_phih -6151.150017754753\n",
      "th_phih -6251.457179570803\n",
      "tt_phit -6274.789929826273\n",
      "th_tt_rough -6293.730091064869\n",
      "th_rough_phit -6364.33073391527\n",
      "phih -6376.13484724194\n",
      "rough_phit -6502.204588744475\n",
      "th_tt_phih -6615.706689266938\n",
      "th_tt -6640.317169814139\n",
      "th_phit -6696.284013342259\n",
      "tt_rough -6756.22397414153\n",
      "phit -6819.5370680020515\n",
      "th_rough -7117.630286628141\n",
      "tt -7142.005245312402\n",
      "rough -7285.480227075231\n",
      "th -7467.650005994522\n"
     ]
    }
   ],
   "source": [
    "for i in np.argsort(logz.mean(axis=1))[::-1]:\n",
    "    print(VARIABLES[i], logz.mean(axis=1)[i])"
   ]
  },
  {
   "cell_type": "code",
   "execution_count": 8,
   "metadata": {
    "scrolled": false
   },
   "outputs": [
    {
     "ename": "FileNotFoundError",
     "evalue": "[Errno 2] No such file or directory: 'output/ml_1^tt.txt'",
     "output_type": "error",
     "traceback": [
      "\u001b[0;31m---------------------------------------------------------------------------\u001b[0m",
      "\u001b[0;31mFileNotFoundError\u001b[0m                         Traceback (most recent call last)",
      "\u001b[0;32m<ipython-input-8-a4a4c2bdf77a>\u001b[0m in \u001b[0;36m<module>\u001b[0;34m\u001b[0m\n\u001b[1;32m      3\u001b[0m \u001b[0;32mfor\u001b[0m \u001b[0mj\u001b[0m \u001b[0;32min\u001b[0m \u001b[0;34m[\u001b[0m\u001b[0;36m1\u001b[0m\u001b[0;34m,\u001b[0m \u001b[0;36m4\u001b[0m\u001b[0;34m,\u001b[0m \u001b[0;36m12\u001b[0m\u001b[0;34m,\u001b[0m \u001b[0;36m22\u001b[0m\u001b[0;34m]\u001b[0m\u001b[0;34m:\u001b[0m\u001b[0;34m\u001b[0m\u001b[0;34m\u001b[0m\u001b[0m\n\u001b[1;32m      4\u001b[0m     \u001b[0;32mfor\u001b[0m \u001b[0mi\u001b[0m\u001b[0;34m,\u001b[0m \u001b[0mv\u001b[0m \u001b[0;32min\u001b[0m \u001b[0menumerate\u001b[0m\u001b[0;34m(\u001b[0m\u001b[0mVARIABLES\u001b[0m\u001b[0;34m)\u001b[0m\u001b[0;34m:\u001b[0m\u001b[0;34m\u001b[0m\u001b[0;34m\u001b[0m\u001b[0m\n\u001b[0;32m----> 5\u001b[0;31m         \u001b[0mf\u001b[0m \u001b[0;34m=\u001b[0m \u001b[0mopen\u001b[0m\u001b[0;34m(\u001b[0m\u001b[0;34m'output/ml_{}^{}.txt'\u001b[0m\u001b[0;34m.\u001b[0m\u001b[0mformat\u001b[0m\u001b[0;34m(\u001b[0m\u001b[0mj\u001b[0m\u001b[0;34m,\u001b[0m \u001b[0mv\u001b[0m\u001b[0;34m)\u001b[0m\u001b[0;34m,\u001b[0m \u001b[0;34m'r'\u001b[0m\u001b[0;34m)\u001b[0m\u001b[0;34m\u001b[0m\u001b[0;34m\u001b[0m\u001b[0m\n\u001b[0m\u001b[1;32m      6\u001b[0m         \u001b[0mlogz\u001b[0m\u001b[0;34m[\u001b[0m\u001b[0mi\u001b[0m\u001b[0;34m]\u001b[0m \u001b[0;34m=\u001b[0m \u001b[0mfloat\u001b[0m\u001b[0;34m(\u001b[0m\u001b[0mf\u001b[0m\u001b[0;34m.\u001b[0m\u001b[0mread\u001b[0m\u001b[0;34m(\u001b[0m\u001b[0;34m)\u001b[0m\u001b[0;34m)\u001b[0m\u001b[0;34m\u001b[0m\u001b[0;34m\u001b[0m\u001b[0m\n\u001b[1;32m      7\u001b[0m         \u001b[0mf\u001b[0m\u001b[0;34m.\u001b[0m\u001b[0mclose\u001b[0m\u001b[0;34m(\u001b[0m\u001b[0;34m)\u001b[0m\u001b[0;34m\u001b[0m\u001b[0;34m\u001b[0m\u001b[0m\n",
      "\u001b[0;31mFileNotFoundError\u001b[0m: [Errno 2] No such file or directory: 'output/ml_1^tt.txt'"
     ]
    }
   ],
   "source": [
    "logz = np.zeros(len(VARIABLES))\n",
    "\n",
    "for j in [1, 4, 12, 22]:\n",
    "    for i, v in enumerate(VARIABLES):\n",
    "        f = open('output/ml_{}^{}.txt'.format(j, v), 'r')\n",
    "        logz[i] = float(f.read())\n",
    "        f.close()\n",
    "    plt.subplots(figsize=(10, 6))\n",
    "    plt.plot(VARIABLES, logz, 'o')\n",
    "    plt.xticks(VARIABLES, V_LABELS, rotation='vertical')\n",
    "    plt.xlabel('Variables')\n",
    "    plt.ylabel('$\\ln{Z}$')\n",
    "    plt.show()\n",
    "    for kk in np.argsort(logz)[::-1][:4]:\n",
    "        print(VARIABLES[kk], logz[kk])"
   ]
  },
  {
   "cell_type": "code",
   "execution_count": null,
   "metadata": {},
   "outputs": [],
   "source": []
  }
 ],
 "metadata": {
  "kernelspec": {
   "display_name": "Python 3.7 [Conda DLS]",
   "language": "python",
   "name": "conda-env-Conda_DLS-python3.7"
  },
  "language_info": {
   "codemirror_mode": {
    "name": "ipython",
    "version": 3
   },
   "file_extension": ".py",
   "mimetype": "text/x-python",
   "name": "python",
   "nbconvert_exporter": "python",
   "pygments_lexer": "ipython3",
   "version": "3.7.3"
  }
 },
 "nbformat": 4,
 "nbformat_minor": 2
}
